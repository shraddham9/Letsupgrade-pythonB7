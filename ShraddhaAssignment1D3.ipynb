{
  "nbformat": 4,
  "nbformat_minor": 0,
  "metadata": {
    "colab": {
      "name": "ShraddhaAssignmentD3.ipynb",
      "provenance": [],
      "collapsed_sections": []
    },
    "kernelspec": {
      "name": "python3",
      "display_name": "Python 3"
    }
  },
  "cells": [
    {
      "cell_type": "code",
      "metadata": {
        "id": "4gQ6hdNKF9Ev",
        "colab_type": "code",
        "colab": {}
      },
      "source": [
        "##comments\n",
        "#ASSIGNMENT1DAY3"
      ],
      "execution_count": null,
      "outputs": []
    },
    {
      "cell_type": "code",
      "metadata": {
        "id": "Gni4aHJsCxxS",
        "colab_type": "code",
        "colab": {
          "base_uri": "https://localhost:8080/",
          "height": 34
        },
        "outputId": "628bb4c5-72cb-4edc-e7d7-29d48edcd04f"
      },
      "source": [
        " situation1 = 2000\n",
        " situation2 = 4600\n",
        "if situation1 <= 1000:\n",
        "    print(\"safe to land\")\n",
        "elif situation2 >= 4500:\n",
        "    print(\"bring down to 1000\")\n",
        "else:\n",
        "    print(\"turn around \")"
      ],
      "execution_count": 18,
      "outputs": [
        {
          "output_type": "stream",
          "text": [
            "bring down to 1000\n"
          ],
          "name": "stdout"
        }
      ]
    },
    {
      "cell_type": "code",
      "metadata": {
        "id": "x_VfmTW8LPCs",
        "colab_type": "code",
        "colab": {
          "base_uri": "https://localhost:8080/",
          "height": 34
        },
        "outputId": "035707da-d0b9-4db7-f874-e1cae73a51c6"
      },
      "source": [
        " situation1 = 1500\n",
        " situation2 = 4300\n",
        "if situation1 <= 1000:\n",
        "    print(\"safe to land\")\n",
        "elif situation2 >= 4500:\n",
        "    print(\"bring down to 1000\")\n",
        "else:\n",
        "    print(\"turn around \")"
      ],
      "execution_count": 21,
      "outputs": [
        {
          "output_type": "stream",
          "text": [
            "turn around \n"
          ],
          "name": "stdout"
        }
      ]
    },
    {
      "cell_type": "code",
      "metadata": {
        "id": "rWupqwAFLqCd",
        "colab_type": "code",
        "colab": {
          "base_uri": "https://localhost:8080/",
          "height": 34
        },
        "outputId": "76bf88fb-8d45-4cc6-d284-3f07effddd6a"
      },
      "source": [
        " situation1 = 500\n",
        " situation2 = 4300\n",
        "if situation1 <= 1000:\n",
        "    print(\"safe to land\")\n",
        "elif situation2 >= 4500:\n",
        "    print(\"bring down to 1000\")\n",
        "else:\n",
        "    print(\"turn around \")"
      ],
      "execution_count": 22,
      "outputs": [
        {
          "output_type": "stream",
          "text": [
            "safe to land\n"
          ],
          "name": "stdout"
        }
      ]
    }
  ]
}